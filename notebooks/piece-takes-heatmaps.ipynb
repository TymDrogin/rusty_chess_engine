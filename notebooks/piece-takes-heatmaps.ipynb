{
 "cells": [
  {
   "cell_type": "code",
   "execution_count": 49,
   "metadata": {},
   "outputs": [],
   "source": [
    "import pandas as pd\n",
    "import numpy as np\n",
    "import seaborn as sns\n",
    "import matplotlib.pyplot as plt\n",
    "import io\n",
    "\n",
    "import chess\n",
    "from chess import Board"
   ]
  },
  {
   "cell_type": "markdown",
   "metadata": {},
   "source": [
    "Data import:"
   ]
  },
  {
   "cell_type": "code",
   "execution_count": 40,
   "metadata": {},
   "outputs": [],
   "source": [
    "path_to_csv = \"../data/games-dataset.csv\"\n",
    "df = pd.read_csv(path_to_csv)\n",
    "to_remove_cols = list(df.columns)\n",
    "to_remove_cols.pop() #Moves is our last column\n",
    "df = df.drop(columns = to_remove_cols)"
   ]
  },
  {
   "cell_type": "markdown",
   "metadata": {},
   "source": [
    "Heatmaps generation:\n"
   ]
  },
  {
   "cell_type": "code",
   "execution_count": 52,
   "metadata": {},
   "outputs": [
    {
     "ename": "KeyboardInterrupt",
     "evalue": "",
     "output_type": "error",
     "traceback": [
      "\u001b[1;31m---------------------------------------------------------------------------\u001b[0m",
      "\u001b[1;31mKeyboardInterrupt\u001b[0m                         Traceback (most recent call last)",
      "Cell \u001b[1;32mIn[52], line 21\u001b[0m\n\u001b[0;32m     18\u001b[0m     \u001b[39mprint\u001b[39m(i)\n\u001b[0;32m     20\u001b[0m \u001b[39mfor\u001b[39;00m move \u001b[39min\u001b[39;00m game\u001b[39m.\u001b[39mmainline_moves():\n\u001b[1;32m---> 21\u001b[0m     board\u001b[39m.\u001b[39;49mpush(move)\n\u001b[0;32m     22\u001b[0m     to_square \u001b[39m=\u001b[39m move\u001b[39m.\u001b[39mto_square\n\u001b[0;32m     24\u001b[0m     \u001b[39mif\u001b[39;00m board\u001b[39m.\u001b[39mis_capture(move):\n",
      "File \u001b[1;32mc:\\Users\\Tim Drogin\\AppData\\Local\\Programs\\Python\\Python310\\lib\\site-packages\\chess\\__init__.py:2259\u001b[0m, in \u001b[0;36mBoard.push\u001b[1;34m(self, move)\u001b[0m\n\u001b[0;32m   2257\u001b[0m promoted \u001b[39m=\u001b[39m \u001b[39mbool\u001b[39m(\u001b[39mself\u001b[39m\u001b[39m.\u001b[39mpromoted \u001b[39m&\u001b[39m from_bb)\n\u001b[0;32m   2258\u001b[0m piece_type \u001b[39m=\u001b[39m \u001b[39mself\u001b[39m\u001b[39m.\u001b[39m_remove_piece_at(move\u001b[39m.\u001b[39mfrom_square)\n\u001b[1;32m-> 2259\u001b[0m \u001b[39massert\u001b[39;00m piece_type \u001b[39mis\u001b[39;49;00m \u001b[39mnot\u001b[39;49;00m \u001b[39mNone\u001b[39;49;00m, \u001b[39mf\u001b[39m\u001b[39m\"\u001b[39m\u001b[39mpush() expects move to be pseudo-legal, but got \u001b[39m\u001b[39m{\u001b[39;00mmove\u001b[39m}\u001b[39;00m\u001b[39m in \u001b[39m\u001b[39m{\u001b[39;00m\u001b[39mself\u001b[39m\u001b[39m.\u001b[39mboard_fen()\u001b[39m}\u001b[39;00m\u001b[39m\"\u001b[39m\n\u001b[0;32m   2260\u001b[0m capture_square \u001b[39m=\u001b[39m move\u001b[39m.\u001b[39mto_square\n\u001b[0;32m   2261\u001b[0m captured_piece_type \u001b[39m=\u001b[39m \u001b[39mself\u001b[39m\u001b[39m.\u001b[39mpiece_type_at(capture_square)\n",
      "\u001b[1;31mKeyboardInterrupt\u001b[0m: "
     ]
    }
   ],
   "source": [
    "piece_heatmaps = {\n",
    "    'K': np.zeros((8, 8)),\n",
    "    'Q': np.zeros((8, 8)),\n",
    "    'R': np.zeros((8, 8)),\n",
    "    'B': np.zeros((8, 8)),\n",
    "    'N': np.zeros((8, 8)),\n",
    "    'P': np.zeros((8, 8))\n",
    "}\n",
    "\n",
    "i = 0\n",
    "for moves in df['Moves']:\n",
    "    moves = io.StringIO(moves)  # Create a file-like object from the moves string\n",
    "\n",
    "    board = Board()\n",
    "\n",
    "    i += 1\n",
    "    if i % 1000 == 100:\n",
    "        print(i)\n",
    "\n",
    "    for move in game.mainline_moves():\n",
    "        board.push(move)\n",
    "        to_square = move.to_square\n",
    "\n",
    "        if board.is_capture(move):\n",
    "            captured_piece_type = board.piece_at(to_square).symbol().upper()\n",
    "\n",
    "            rank, file = chess.square_rank(to_square), chess.square_file(to_square)\n",
    "            piece_heatmaps[captured_piece_type][rank][file] += 1\n"
   ]
  },
  {
   "cell_type": "code",
   "execution_count": null,
   "metadata": {},
   "outputs": [],
   "source": [
    "def print_heatmap(heatmap_data):\n",
    "    heatmap_frame = pd.DataFrame(heatmap_data) #Making dataframe from 2d-array\n",
    "    heatmap_frame.index = ['8', '7', '6', '5', '4', '3', '2', '1']\n",
    "    heatmap_frame.columns = ['a', 'b', 'c', 'd', 'e', 'f', 'g', 'h']\n",
    "\n",
    "    fig, ax = plt.subplots(figsize=(10,10)) \n",
    "    sns.heatmap(heatmap_frame, cmap='YlGnBu') "
   ]
  }
 ],
 "metadata": {
  "kernelspec": {
   "display_name": "Python 3",
   "language": "python",
   "name": "python3"
  },
  "language_info": {
   "codemirror_mode": {
    "name": "ipython",
    "version": 3
   },
   "file_extension": ".py",
   "mimetype": "text/x-python",
   "name": "python",
   "nbconvert_exporter": "python",
   "pygments_lexer": "ipython3",
   "version": "3.10.9"
  },
  "orig_nbformat": 4
 },
 "nbformat": 4,
 "nbformat_minor": 2
}
