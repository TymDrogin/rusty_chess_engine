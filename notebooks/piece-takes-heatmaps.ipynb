{
 "cells": [
  {
   "cell_type": "code",
   "execution_count": 7,
   "metadata": {},
   "outputs": [],
   "source": [
    "import pandas as pd\n",
    "import numpy as np\n",
    "import seaborn as sns\n",
    "import matplotlib.pyplot as plt\n",
    "\n",
    "from chess import Board"
   ]
  },
  {
   "cell_type": "code",
   "execution_count": 12,
   "metadata": {},
   "outputs": [],
   "source": [
    "path_to_csv = \"../data/games-dataset.csv\"\n",
    "df = pd.read_csv(path_to_csv)"
   ]
  },
  {
   "cell_type": "code",
   "execution_count": 11,
   "metadata": {},
   "outputs": [
    {
     "ename": "TypeError",
     "evalue": "Cannot interpret '8' as a data type",
     "output_type": "error",
     "traceback": [
      "\u001b[1;31m---------------------------------------------------------------------------\u001b[0m",
      "\u001b[1;31mTypeError\u001b[0m                                 Traceback (most recent call last)",
      "Cell \u001b[1;32mIn[11], line 1\u001b[0m\n\u001b[1;32m----> 1\u001b[0m king_heatmap \u001b[39m=\u001b[39m np\u001b[39m.\u001b[39;49mzeros(\u001b[39m8\u001b[39;49m,\u001b[39m8\u001b[39;49m)\n\u001b[0;32m      2\u001b[0m queen_heatmap \u001b[39m=\u001b[39m np\u001b[39m.\u001b[39mzeros(\u001b[39m8\u001b[39m,\u001b[39m8\u001b[39m)\n\u001b[0;32m      3\u001b[0m rook_heatmap \u001b[39m=\u001b[39m np\u001b[39m.\u001b[39mzeros(\u001b[39m8\u001b[39m,\u001b[39m8\u001b[39m)\n",
      "\u001b[1;31mTypeError\u001b[0m: Cannot interpret '8' as a data type"
     ]
    }
   ],
   "source": [
    "king_heatmap = np.zeros((8,8))\n",
    "queen_heatmap = np.zeros((8,8))\n",
    "rook_heatmap = np.zeros((8,8))\n",
    "bishop_heatmap = np.zeros((8,8))\n",
    "knight_heatmap = np.zeros((8,8))\n",
    "pawn_heatmap  = np.zeros((8,8))\n"
   ]
  },
  {
   "cell_type": "code",
   "execution_count": 13,
   "metadata": {},
   "outputs": [],
   "source": [
    "def print_heatmap(heatmap_data):\n",
    "    heatmap_frame = pd.DataFrame(heatmap_data) #Making dataframe from 2d-array\n",
    "    heatmap_frame.index = ['8', '7', '6', '5', '4', '3', '2', '1']\n",
    "    heatmap_frame.columns = ['a', 'b', 'c', 'd', 'e', 'f', 'g', 'h']\n",
    "\n",
    "    fig, ax = plt.subplots(figsize=(10,10)) \n",
    "    sns.heatmap(heatmap_frame, cmap='YlGnBu') "
   ]
  }
 ],
 "metadata": {
  "kernelspec": {
   "display_name": "Python 3",
   "language": "python",
   "name": "python3"
  },
  "language_info": {
   "codemirror_mode": {
    "name": "ipython",
    "version": 3
   },
   "file_extension": ".py",
   "mimetype": "text/x-python",
   "name": "python",
   "nbconvert_exporter": "python",
   "pygments_lexer": "ipython3",
   "version": "3.10.9"
  },
  "orig_nbformat": 4
 },
 "nbformat": 4,
 "nbformat_minor": 2
}
